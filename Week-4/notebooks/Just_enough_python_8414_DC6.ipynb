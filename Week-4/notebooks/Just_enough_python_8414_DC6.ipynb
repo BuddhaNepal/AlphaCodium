{
  "nbformat": 4,
  "nbformat_minor": 0,
  "metadata": {
    "colab": {
      "provenance": [],
      "authorship_tag": "ABX9TyMJjUPh1NQqiOujBE8uPkx/",
      "include_colab_link": true
    },
    "kernelspec": {
      "name": "python3",
      "display_name": "Python 3"
    },
    "language_info": {
      "name": "python"
    }
  },
  "cells": [
    {
      "cell_type": "markdown",
      "metadata": {
        "id": "view-in-github",
        "colab_type": "text"
      },
      "source": [
        "<a href=\"https://colab.research.google.com/github/BuddhaNepal/AlphaCodium/blob/main/Week-4/notebooks/Just_enough_python_8414_DC6.ipynb\" target=\"_parent\"><img src=\"https://colab.research.google.com/assets/colab-badge.svg\" alt=\"Open In Colab\"/></a>"
      ]
    },
    {
      "cell_type": "code",
      "execution_count": 12,
      "metadata": {
        "colab": {
          "base_uri": "https://localhost:8080/"
        },
        "id": "BG4jeqrc6MxM",
        "outputId": "4d4e228d-9757-4bc5-efbb-8a490dfab334"
      },
      "outputs": [
        {
          "output_type": "stream",
          "name": "stdout",
          "text": [
            "Sum a + b: 2\n",
            "Value of c: 2\n",
            "Product a * b * c: 2\n",
            "Modulus a % c: 1\n",
            "Division a / c: 0.5\n"
          ]
        }
      ],
      "source": [
        "# Basic Arithmetic\n",
        "a = 1\n",
        "b = 1\n",
        "print(\"Sum a + b:\", a + b)  # Addition\n",
        "\n",
        "c = a + b\n",
        "print(\"Value of c:\", c)  # Storing result in variable\n",
        "\n",
        "print(\"Product a * b * c:\", a * b * c)  # Multiplication\n",
        "\n",
        "print(\"Modulus a % c:\", a % c)  # Modulus, remainder of division\n",
        "\n",
        "print(\"Division a / c:\", a / c)  # Division\n",
        "\n",
        "a += 1  # Increment a\n"
      ]
    },
    {
      "cell_type": "code",
      "source": [
        "\n",
        "# Exponentiation\n",
        "print(\"Exponentiation 2 ** 4:\", 2 ** 4)  # Exponentiation\n",
        "\n",
        "# Bitwise XOR operator\n",
        "print(\"Bitwise XOR 2 ^ 4:\", 2 ^ 4)  # Bitwise XOR operator, explain why the result is 6"
      ],
      "metadata": {
        "colab": {
          "base_uri": "https://localhost:8080/"
        },
        "id": "4-kzpOrG-I33",
        "outputId": "a911f1bc-aff4-4fb5-cb16-b81136a4392c"
      },
      "execution_count": 10,
      "outputs": [
        {
          "output_type": "stream",
          "name": "stdout",
          "text": [
            "Exponentiation 2 ** 4: 16\n",
            "Bitwise XOR 2 ^ 4: 6\n"
          ]
        }
      ]
    },
    {
      "cell_type": "code",
      "source": [
        "# String Operations\n",
        "\n",
        "s = \"Hello Cybersecurity Class\"\n",
        "print(s)  # Displaying string\n",
        "\n",
        "print(\"Lowercase:\", s.lower())  # Converting to lowercase\n",
        "\n",
        "print(\"Uppercase:\", s.upper())  # Converting to uppercase\n",
        "\n",
        "s = s + \" of 2023\"\n",
        "print(\"Concatenation:\", s)  # String concatenation\n",
        "\n",
        "s = s.replace(\"2023\", \"Fall 2023\")\n",
        "print(\"Replacement:\", s)  # Replacing part of a string\n",
        "\n",
        "# String Formatting (f-strings)\n",
        "name = \"Alice\"\n",
        "welcome_message = f\"Welcome, {name}!\"\n",
        "print(\"Formatted String:\", welcome_message)\n"
      ],
      "metadata": {
        "colab": {
          "base_uri": "https://localhost:8080/"
        },
        "id": "pXgg-RV16aOE",
        "outputId": "e979a2e5-f0dd-46d8-99ff-741a2cca6058"
      },
      "execution_count": 2,
      "outputs": [
        {
          "output_type": "stream",
          "name": "stdout",
          "text": [
            "Hello Cybersecurity Class\n",
            "Lowercase: hello cybersecurity class\n",
            "Uppercase: HELLO CYBERSECURITY CLASS\n",
            "Concatenation: Hello Cybersecurity Class of 2023\n",
            "Replacement: Hello Cybersecurity Class of Fall 2023\n",
            "Formatted String: Welcome, Alice!\n"
          ]
        }
      ]
    },
    {
      "cell_type": "code",
      "source": [
        "# Data Structures\n",
        "\n",
        "# List operations\n",
        "array = [11, 22234234234, 33, 44]\n",
        "print(\"Element at index 3:\", array[3])  # Accessing element\n",
        "array.append(55)  # Adding an element\n",
        "print(\"List after append:\", array)\n",
        "\n",
        "# Dictionary operations\n",
        "dictionary = {\"name\": \"Dr. N\", \"class\": \"SEAS 8414\"}\n",
        "print(\"Dictionary:\", dictionary)\n",
        "print(\"Value for key 'name':\", dictionary[\"name\"])  # Accessing value by key\n",
        "\n",
        "# Iterating over dictionary\n",
        "for key, value in dictionary.items():\n",
        "    print(f\"Key: {key}, Value: {value}\")\n"
      ],
      "metadata": {
        "colab": {
          "base_uri": "https://localhost:8080/"
        },
        "id": "_uDKxepM6ijE",
        "outputId": "bd7e93c7-aad0-4206-9c61-6a6e0019835d"
      },
      "execution_count": 4,
      "outputs": [
        {
          "output_type": "stream",
          "name": "stdout",
          "text": [
            "Element at index 3: 44\n",
            "List after append: [11, 22234234234, 33, 44, 55]\n",
            "Dictionary: {'name': 'Dr. N', 'class': 'SEAS 8414'}\n",
            "Value for key 'name': Dr. N\n",
            "Key: name, Value: Dr. N\n",
            "Key: class, Value: SEAS 8414\n"
          ]
        }
      ]
    },
    {
      "cell_type": "code",
      "source": [
        "# Loops\n",
        "\n",
        "# For loop with list\n",
        "for i in [0, 1, 2, 3]:\n",
        "    print(\"List element:\", i)\n",
        "\n",
        "# For loop with range\n",
        "for i in range(4):\n",
        "    print(\"Range element:\", i)\n",
        "\n",
        "# While loop with condition\n",
        "count = 0\n",
        "while count < 3:\n",
        "    print(\"While loop count:\", count)\n",
        "    count += 1  # Increment count\n",
        "\n",
        "# Infinite loop with break\n",
        "while True:\n",
        "    print(\"Break out of while!\")\n",
        "    break  # Exiting the loop\n"
      ],
      "metadata": {
        "colab": {
          "base_uri": "https://localhost:8080/"
        },
        "id": "R0EXgr0f6to5",
        "outputId": "c07d48aa-2f77-4923-fe9e-920176a135ec"
      },
      "execution_count": 5,
      "outputs": [
        {
          "output_type": "stream",
          "name": "stdout",
          "text": [
            "List element: 0\n",
            "List element: 1\n",
            "List element: 2\n",
            "List element: 3\n",
            "Range element: 0\n",
            "Range element: 1\n",
            "Range element: 2\n",
            "Range element: 3\n",
            "While loop count: 0\n",
            "While loop count: 1\n",
            "While loop count: 2\n",
            "Break out of while!\n"
          ]
        }
      ]
    },
    {
      "cell_type": "code",
      "source": [
        "# External Commands\n",
        "\n",
        "# Listing files in the current directory\n",
        "!ls\n",
        "\n",
        "# Getting system information (uncomment to run)\n",
        "#!uname -a\n"
      ],
      "metadata": {
        "colab": {
          "base_uri": "https://localhost:8080/"
        },
        "id": "th06pRAq60Qa",
        "outputId": "1de215ea-884a-4649-b102-3289bef127b2"
      },
      "execution_count": 8,
      "outputs": [
        {
          "output_type": "stream",
          "name": "stdout",
          "text": [
            "sample_data\n",
            "Linux 7e308c178aec 6.1.58+ #1 SMP PREEMPT_DYNAMIC Sat Nov 18 15:31:17 UTC 2023 x86_64 x86_64 x86_64 GNU/Linux\n"
          ]
        }
      ]
    }
  ]
}